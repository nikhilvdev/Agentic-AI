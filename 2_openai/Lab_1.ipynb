{
 "cells": [
  {
   "metadata": {},
   "cell_type": "markdown",
   "source": "## OpenAI Agents SDK",
   "id": "83bf641540cd3018"
  },
  {
   "metadata": {
    "collapsed": true,
    "ExecuteTime": {
     "end_time": "2025-09-09T06:49:57.513735Z",
     "start_time": "2025-09-09T06:49:53.566103Z"
    }
   },
   "cell_type": "code",
   "source": [
    "# The Imports\n",
    "\n",
    "from dotenv import load_dotenv\n",
    "from agents import Agent, Runner, trace"
   ],
   "id": "34102562d59ff635",
   "outputs": [],
   "execution_count": 5
  },
  {
   "metadata": {
    "ExecuteTime": {
     "end_time": "2025-09-09T06:49:59.587299Z",
     "start_time": "2025-09-09T06:49:59.576628Z"
    }
   },
   "cell_type": "code",
   "source": [
    "# the usual starting point\n",
    "\n",
    "load_dotenv(override=True)"
   ],
   "id": "981292a335014d99",
   "outputs": [
    {
     "data": {
      "text/plain": [
       "True"
      ]
     },
     "execution_count": 6,
     "metadata": {},
     "output_type": "execute_result"
    }
   ],
   "execution_count": 6
  },
  {
   "metadata": {
    "ExecuteTime": {
     "end_time": "2025-09-09T06:50:01.288378Z",
     "start_time": "2025-09-09T06:50:01.285508Z"
    }
   },
   "cell_type": "code",
   "source": [
    "#Make an agent with name, instruction, modal\n",
    "\n",
    "agent = Agent(name=\"Jokester\", instructions=\"You are a joke teller\", model=\"gpt-5-mini\")\n"
   ],
   "id": "849a9d3bcfdd4cb1",
   "outputs": [],
   "execution_count": 7
  },
  {
   "metadata": {
    "ExecuteTime": {
     "end_time": "2025-09-09T06:50:13.191848Z",
     "start_time": "2025-09-09T06:50:02.789426Z"
    }
   },
   "cell_type": "code",
   "source": [
    "# Run the Joke with Runner.run(agent, prompt) then print final_output\n",
    "\n",
    "with trace(\"Telling a joke\"):\n",
    "    result = await Runner.run(agent, \"Tell a joke about Autonomous AI Agents\")\n",
    "    print(result.final_output)"
   ],
   "id": "2b7817a843835eb5",
   "outputs": [
    {
     "name": "stderr",
     "output_type": "stream",
     "text": [
      "[non-fatal] Tracing client error 403: {\n",
      "  \"error\": {\n",
      "    \"message\": \"Traces ingestion is not permitted for zero data retention organizations.\",\n",
      "    \"type\": \"invalid_request_error\",\n",
      "    \"param\": null,\n",
      "    \"code\": \"zdr_forbidden\"\n",
      "  }\n",
      "}\n"
     ]
    },
    {
     "name": "stdout",
     "output_type": "stream",
     "text": [
      "Why did the autonomous AI agent bring a map to the data center?\n",
      "\n",
      "Because when someone said \"find your own path,\" it took it literally.\n"
     ]
    },
    {
     "name": "stderr",
     "output_type": "stream",
     "text": [
      "[non-fatal] Tracing client error 403: {\n",
      "  \"error\": {\n",
      "    \"message\": \"Traces ingestion is not permitted for zero data retention organizations.\",\n",
      "    \"type\": \"invalid_request_error\",\n",
      "    \"param\": null,\n",
      "    \"code\": \"zdr_forbidden\"\n",
      "  }\n",
      "}\n"
     ]
    }
   ],
   "execution_count": 8
  }
 ],
 "metadata": {
  "kernelspec": {
   "display_name": "Python 3",
   "language": "python",
   "name": "python3"
  },
  "language_info": {
   "codemirror_mode": {
    "name": "ipython",
    "version": 2
   },
   "file_extension": ".py",
   "mimetype": "text/x-python",
   "name": "python",
   "nbconvert_exporter": "python",
   "pygments_lexer": "ipython2",
   "version": "2.7.6"
  }
 },
 "nbformat": 4,
 "nbformat_minor": 5
}
