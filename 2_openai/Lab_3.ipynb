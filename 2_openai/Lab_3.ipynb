{
 "cells": [
  {
   "metadata": {},
   "cell_type": "markdown",
   "source": [
    "## Week 2 Day 3\n",
    "\n",
    "Now we get to more detail:\n",
    "\n",
    "1. Different models\n",
    "\n",
    "2. Structured Outputs\n",
    "\n",
    "3. Guardrails"
   ],
   "id": "57c3a8deb7709023"
  },
  {
   "metadata": {
    "collapsed": true
   },
   "cell_type": "code",
   "source": [
    "from dotenv import load_dotenv\n",
    "from openai import AsyncOpenAI\n",
    "from agents import Agent, Runner, trace,function_tool, OpenAIChatCompletionsModel, input_guardrail, GuardrailFunctionOutput\n",
    "from typing import Dict\n",
    "import sendgrid\n",
    "import os\n",
    "from sendgrid.helpers.mail import Mail, Email, To, Content\n",
    "from pydantic import BaseModel"
   ],
   "id": "da7da4dee5808896",
   "outputs": [],
   "execution_count": null
  },
  {
   "metadata": {},
   "cell_type": "code",
   "source": "load_dotenv(override=True)",
   "id": "2261570c533996f4",
   "outputs": [],
   "execution_count": null
  },
  {
   "metadata": {},
   "cell_type": "code",
   "source": [
    "openai_api_key = os.getenv(\"OPENAI_API_KEY\")\n",
    "google_api_key = os.getenv(\"GOOGLE_API_KEY\")\n",
    "deepseek_api_key = os.getenv(\"DEEPSEEK_API_KEY\")\n",
    "groq_api_key = os.getenv(\"GROQ_API_KEY\")\n",
    "\n",
    "\n",
    "if openai_api_key:\n",
    "    print(f\"Using OpenAI's API key: {openai_api_key[:8]}\")\n",
    "else:\n",
    "    print(\"OpenAI API key not found.\")\n",
    "\n",
    "if google_api_key:\n",
    "    print(f\"Using Google's API key: {google_api_key[:8]}\")\n",
    "else:\n",
    "    print(\"Google API key not found.\")\n",
    "\n",
    "if deepseek_api_key:\n",
    "    print(f\"Using DeepSeeK API key: {deepseek_api_key[:8]}\")\n",
    "else:\n",
    "    print(\"DeepSeeK API key not found.\")\n",
    "\n",
    "if groq_api_key:\n",
    "    print(f\"Using GroQ's API key: {groq_api_key[:8]}\")\n",
    "else:\n",
    "    print(\"GroQ API key not found.\")"
   ],
   "id": "7aacc3625540b1f0",
   "outputs": [],
   "execution_count": null
  },
  {
   "metadata": {},
   "cell_type": "code",
   "source": [
    "instructions1 = \"You are a sales agent working for ComplAI, \\\n",
    "a company that provides a SaaS tool for ensuring SOC2 compliance and preparing for audits, powered by AI. \\\n",
    "You write professional, serious cold emails.\"\n",
    "\n",
    "instructions2 = \"You are a humorous, engaging sales agent working for ComplAI, \\\n",
    "a company that provides a SaaS tool for ensuring SOC2 compliance and preparing for audits, powered by AI. \\\n",
    "You write witty, engaging cold emails that are likely to get a response.\"\n",
    "\n",
    "instructions3 = \"You are a busy sales agent working for ComplAI, \\\n",
    "a company that provides a SaaS tool for ensuring SOC2 compliance and preparing for audits, powered by AI. \\\n",
    "You write concise, to the point cold emails.\""
   ],
   "id": "681841a9dd335727",
   "outputs": [],
   "execution_count": null
  },
  {
   "metadata": {},
   "cell_type": "markdown",
   "source": "### It's easy to use any models with OpenAI compatible endpoints",
   "id": "ab1e0b9a69c1d585"
  },
  {
   "metadata": {},
   "cell_type": "code",
   "source": [
    "GEMINI_BASE_URL = \"https://generativelanguage.googleapis.com/v1beta/openai/\"\n",
    "DEEPSEEK_BASE_URL = \"https://api.deepseek.com/v1\"\n",
    "GROQ_BASE_URL = \"https://api.groq.com/openai/v1\""
   ],
   "id": "358733841fedbcbc",
   "outputs": [],
   "execution_count": null
  },
  {
   "metadata": {},
   "cell_type": "code",
   "source": [
    "deepseek_client = AsyncOpenAI(base_url=DEEPSEEK_BASE_URL, api_key=deepseek_api_key)\n",
    "gemini_client = AsyncOpenAI(base_url=GEMINI_BASE_URL, api_key=google_api_key)\n",
    "groq_api_key = AsyncOpenAI(base_url=GROQ_BASE_URL, api_key=groq_api_key)\n",
    "\n",
    "deepseek_model = OpenAIChatCompletionsModel(model=\"deepseek-chat\", openai_client=deepseek_client)\n",
    "gemini_model = OpenAIChatCompletionsModel(model=\"gemini-2.0-flash\", openai_client=gemini_client)\n",
    "llama3_3_model = OpenAIChatCompletionsModel(model=\"llama-3.3-70b-versatile\", openai_client=deepseek_client)"
   ],
   "id": "d85a2f2ba99c0c14",
   "outputs": [],
   "execution_count": null
  },
  {
   "metadata": {},
   "cell_type": "code",
   "source": [
    "sales_agent1 = Agent(name=\"DeepSeek Sales Agent\", instructions=instructions1, model=deepseek_model)\n",
    "sales_agent2 = Agent(name=\"Gemini Sales Agent\", instructions=instructions2, model=gemini_model)\n",
    "sales_agent3 = Agent(name=\"Llama3.3 Sales Agent\", instructions=instructions3, model=llama3_3_model)"
   ],
   "id": "37ef672c81cc1e69",
   "outputs": [],
   "execution_count": null
  },
  {
   "metadata": {},
   "cell_type": "code",
   "source": [
    "description = \"Write a cold sales email\"\n",
    "\n",
    "tool1 = sales_agent1.as_tool(tool_name=\"sales_agent1\", tool_description=description)\n",
    "tool2 = sales_agent2.as_tool(tool_name=\"sales_agent2\", tool_description=description)\n",
    "tool3 = sales_agent3.as_tool(tool_name=\"sales_agent3\", tool_description=description)\n"
   ],
   "id": "8ad1945dd26f1494",
   "outputs": [],
   "execution_count": null
  },
  {
   "metadata": {},
   "cell_type": "code",
   "outputs": [],
   "execution_count": null,
   "source": [
    "@function_tool\n",
    "def send_html_email(subject: str, html_body:str) -> Dict[str, str]:\n",
    "    \"\"\"Send out on email with the given subject and HTML body to all sales prospects. \"\"\"\n",
    "    sg = sendgrid.SendGridAPIClient(api_key=os.environ.get('SENDGRID_API_KEY'))\n",
    "    from_email = Email(\"\")\n",
    "    to_email = Email(\"\")\n",
    "    content = Content(\"text/html\", html_body)\n",
    "    mail = Mail(from_email, subject, to_email, content).get()\n",
    "    sg.client.mail.send.post(request_body=mail)\n",
    "    return {\"status\": \"success\"}"
   ],
   "id": "b6e577245e5e362a"
  },
  {
   "metadata": {
    "ExecuteTime": {
     "end_time": "2025-09-16T09:09:45.828167Z",
     "start_time": "2025-09-16T09:09:45.825313Z"
    }
   },
   "cell_type": "code",
   "source": [
    "subject_instructions = \"You can write a subject for a cold sales email. \\\n",
    "You are given a message and you need to write a subject for an email that is likely to get a response.\"\n",
    "\n",
    "html_instructions = \"You can convert a text email body to an HTML email body. \\\n",
    "You are given a text email body which might have some markdown \\\n",
    "and you need to convert it to an HTML email body with simple, clear, compelling layout and design.\"\n",
    "\n",
    "subject_writer = Agent(name=\"Email subject writer\", instructions=subject_instructions, model=\"gpt-5-mini\")\n",
    "subject_tool = subject_writer.as_tool(tool_name=\"subject_writer\", tool_description=\"Write a subject for a cold sales email\")\n",
    "\n",
    "html_converter = Agent(name=\"HTML email body converter\", instructions=html_instructions, model=\"gpt-5-mini\")\n",
    "html_tool = html_converter.as_tool(tool_name=\"html_converter\", tool_description=\"Convert a text email body to an HTML email body.\")"
   ],
   "id": "3dc16ec466df9e7c",
   "outputs": [],
   "execution_count": 2
  },
  {
   "metadata": {},
   "cell_type": "code",
   "outputs": [],
   "execution_count": null,
   "source": "email_tools = [subject_tool, html_tool, send_html_email]",
   "id": "667f72d6b3939d0b"
  },
  {
   "metadata": {},
   "cell_type": "code",
   "outputs": [],
   "execution_count": null,
   "source": [
    "instructions =\"You are an email formatter and sender. You receive the body of an email to be sent. \\\n",
    "You first use the subject_writer tool to write a subject for the email, then use the html_converter tool to convert the body to HTML. \\\n",
    "Finally, you use the send_html_email tool to send the email with the subject and HTML body.\"\n",
    "\n",
    "emailer_agent = Agent(\n",
    "    name=\"Emailer Manager\",\n",
    "    instructions=instructions,\n",
    "    tools=email_tools,\n",
    "    model=\"gpt-5-mini\",\n",
    "    handoff_description=\"Convert an email to HTML and send it.\"\n",
    ")"
   ],
   "id": "18a0be15b5599166"
  },
  {
   "metadata": {},
   "cell_type": "code",
   "outputs": [],
   "execution_count": null,
   "source": [
    "tools = [tool1, tool2, tool3]\n",
    "handoffs = [emailer_agent]"
   ],
   "id": "d24fbabb8fece859"
  },
  {
   "metadata": {},
   "cell_type": "code",
   "outputs": [],
   "execution_count": null,
   "source": [
    "sales_manager_instructions = \"\"\"\n",
    "You are a Sales Manager at ComplAI. Your goal is to find the single best cold sales email using the sales_agent tools.\n",
    "\n",
    "Follow these steps carefully:\n",
    "1. Generate Drafts: Use all three sales_agent tools to generate three different email drafts. Do not proceed until all three drafts are ready.\n",
    "\n",
    "2. Evaluate and Select: Review the drafts and choose the single best email using your judgment of which one is most effective.\n",
    "You can use the tools multiple times if you're not satisfied with the results from the first try.\n",
    "\n",
    "3. Handoff for Sending: Pass ONLY the winning email draft to the 'Email Manager' agent. The Email Manager will take care of formatting and sending.\n",
    "\n",
    "Crucial Rules:\n",
    "- You must use the sales agent tools to generate the drafts — do not write them yourself.\n",
    "- You must hand off exactly ONE email to the Email Manager — never more than one.\n",
    "\"\"\"\n",
    "\n",
    "sales_manager = Agent(\n",
    "    name=\"Sales Manager\",\n",
    "    instructions=sales_manager_instructions,\n",
    "    tools=tools,\n",
    "    handoffs=handoffs,\n",
    "    model=\"gpt-5-mini\",\n",
    ")\n",
    "\n",
    "message = \"Send out a cold sales email addressed to Dear CEO From Alice\"\n",
    "\n",
    "with trace(\"Automated SDR\"):\n",
    "    result = await Runner.run(sales_manager, message)"
   ],
   "id": "d996ca294368d743"
  },
  {
   "metadata": {},
   "cell_type": "markdown",
   "source": [
    "## Check out the trace:\n",
    "\n",
    "https://platform.openai.com/traces"
   ],
   "id": "e47fe3baf4f047a"
  },
  {
   "metadata": {
    "ExecuteTime": {
     "end_time": "2025-09-16T09:26:40.471890Z",
     "start_time": "2025-09-16T09:26:40.470085Z"
    }
   },
   "cell_type": "code",
   "source": [
    "class NameCheckOutput(BaseModel):\n",
    "    is_name_in_message: bool\n",
    "    name: str\n",
    "\n",
    "\n",
    "guardrail_agent = Agent(\n",
    "    name=\"Name Check\",\n",
    "    instructions=\"Check of the User is including someone's personal name in what they want you to do.\",\n",
    "    output_type=NameCheckOutput,\n",
    "    model=\"gpt-5-mini\",\n",
    ")"
   ],
   "id": "d2d491cde0d6ad81",
   "outputs": [],
   "execution_count": null
  },
  {
   "metadata": {},
   "cell_type": "code",
   "outputs": [],
   "execution_count": null,
   "source": [
    "@input_guardrail\n",
    "async def guardrails_against_name(ctx, agent, message):\n",
    "    result = await Runner.run(guardrail_agent, message, context=ctx.connect)\n",
    "    is_name_in_message = result.final_output.is_name_in_message\n",
    "    return GuardrailFunctionOutput(output_info={\"found_name\": result.final_output}, tripwire_triggered=is_name_in_message)"
   ],
   "id": "b54f60c39b71647f"
  },
  {
   "metadata": {},
   "cell_type": "code",
   "outputs": [],
   "execution_count": null,
   "source": [
    "careful_sales_manager = Agent(\n",
    "    name=\"Sales Manager\",\n",
    "    instructions=sales_manager_instructions,\n",
    "    tools=tools,\n",
    "    handoffs=[emailer_agent],\n",
    "    model=\"gpt-5-mini\",\n",
    "    input_guardrails = [guardrails_against_name]\n",
    ")\n",
    "\n",
    "message = \"Send out a cold sales email addressed to Dear CEO From Alice\"\n",
    "\n",
    "with trace(\"Protected Automated SDR\"):\n",
    "    result = await Runner.run(careful_sales_manager, message)"
   ],
   "id": "f5003fc7fd0719f7"
  },
  {
   "metadata": {},
   "cell_type": "markdown",
   "source": [
    "## Check out the trace:\n",
    "\n",
    "https://platform.openai.com/traces"
   ],
   "id": "cc2954c2597f0157"
  },
  {
   "metadata": {},
   "cell_type": "code",
   "outputs": [],
   "execution_count": null,
   "source": [
    "massage = \"Send out a cold sales email addressed to Dear CEO from head of Business Development\"\n",
    "\n",
    "with trace(\"Protected Automated SDR\"):\n",
    "    result = await Runner.run(careful_sales_manager, massage)"
   ],
   "id": "a2245831740f079e"
  }
 ],
 "metadata": {
  "kernelspec": {
   "display_name": "Python 3",
   "language": "python",
   "name": "python3"
  },
  "language_info": {
   "codemirror_mode": {
    "name": "ipython",
    "version": 2
   },
   "file_extension": ".py",
   "mimetype": "text/x-python",
   "name": "python",
   "nbconvert_exporter": "python",
   "pygments_lexer": "ipython2",
   "version": "2.7.6"
  }
 },
 "nbformat": 4,
 "nbformat_minor": 5
}
