{
 "cells": [
  {
   "metadata": {},
   "cell_type": "markdown",
   "source": "# Welcome to Agentic AI",
   "id": "6aa625cdb99285e7"
  },
  {
   "metadata": {
    "ExecuteTime": {
     "end_time": "2025-09-06T05:36:31.167426Z",
     "start_time": "2025-09-06T05:36:31.128735Z"
    }
   },
   "cell_type": "code",
   "source": [
    "# First lets do an import. If you get an Import Error, double check that your Kernel is Correct.\n",
    "\n",
    "from dotenv import load_dotenv"
   ],
   "id": "f80a24202e96b884",
   "outputs": [],
   "execution_count": 1
  },
  {
   "metadata": {
    "ExecuteTime": {
     "end_time": "2025-09-06T05:36:44.408569Z",
     "start_time": "2025-09-06T05:36:44.381711Z"
    }
   },
   "cell_type": "code",
   "source": [
    "# Next It's time to load the API keys into the Environment Variables\n",
    "#  If this returns false, see the next Cell\n",
    "\n",
    "load_dotenv(override=True)"
   ],
   "id": "f1cbce02a37a5b58",
   "outputs": [
    {
     "data": {
      "text/plain": [
       "True"
      ]
     },
     "execution_count": 2,
     "metadata": {},
     "output_type": "execute_result"
    }
   ],
   "execution_count": 2
  },
  {
   "metadata": {
    "ExecuteTime": {
     "end_time": "2025-09-06T05:37:02.384446Z",
     "start_time": "2025-09-06T05:37:02.380227Z"
    }
   },
   "cell_type": "code",
   "source": [
    "# CHeck the Key - if you're not using openAI, check whichever key you're using! Ollama doesn't need a key.\n",
    "\n",
    "import os\n",
    "openai_api_key = os.getenv('OPENAI_API_KEY')\n",
    "\n",
    "if openai_api_key:\n",
    "    print(f\"OpenAI API Key is {openai_api_key[:5]}\")\n",
    "else:\n",
    "    print(\"OpenAI API Key is not set\")"
   ],
   "id": "47e4fea4f0df88eb",
   "outputs": [
    {
     "name": "stdout",
     "output_type": "stream",
     "text": [
      "OpenAI API Key is sk-pr\n"
     ]
    }
   ],
   "execution_count": 4
  },
  {
   "metadata": {
    "ExecuteTime": {
     "end_time": "2025-09-06T05:37:05.924867Z",
     "start_time": "2025-09-06T05:37:05.063523Z"
    }
   },
   "cell_type": "code",
   "source": [
    "# And now - the all important statements\n",
    "# if you get an import error - troubleshoot the error\n",
    "# Even for other LLM Providers like Gemini, you still use this OpenAI Import\n",
    "\n",
    "\n",
    "from openai import OpenAI"
   ],
   "id": "a1680325a03f00c1",
   "outputs": [],
   "execution_count": 5
  },
  {
   "metadata": {
    "ExecuteTime": {
     "end_time": "2025-09-06T05:37:08.020623Z",
     "start_time": "2025-09-06T05:37:07.950632Z"
    }
   },
   "cell_type": "code",
   "source": [
    "# and Now we'll create an instance of openAI class\n",
    "\n",
    "openai = OpenAI()"
   ],
   "id": "30b98d943fa23a95",
   "outputs": [],
   "execution_count": 6
  },
  {
   "metadata": {
    "ExecuteTime": {
     "end_time": "2025-09-06T05:37:10.284527Z",
     "start_time": "2025-09-06T05:37:10.281043Z"
    }
   },
   "cell_type": "code",
   "source": [
    "# Create a list of messages in the familiar OpenAI format\n",
    "\n",
    "messages = [{\"role\": \"user\", \"content\":\"What is 2+2?\"}]"
   ],
   "id": "10fc3b5579344be6",
   "outputs": [],
   "execution_count": 7
  },
  {
   "metadata": {
    "ExecuteTime": {
     "end_time": "2025-09-06T05:37:13.749361Z",
     "start_time": "2025-09-06T05:37:12.042826Z"
    }
   },
   "cell_type": "code",
   "source": [
    "# And Now call it! Any Problem Troubleshoot\n",
    "# This uses GPT 4.1 nano, the cheap model\n",
    "\n",
    "response = openai.chat.completions.create(\n",
    "    model=\"gpt-4.1-nano\",\n",
    "    messages=messages\n",
    ")\n",
    "\n",
    "print(response.choices[0].message.content)"
   ],
   "id": "af91b80626f2230",
   "outputs": [
    {
     "name": "stdout",
     "output_type": "stream",
     "text": [
      "2 + 2 equals 4.\n"
     ]
    }
   ],
   "execution_count": 8
  },
  {
   "metadata": {
    "ExecuteTime": {
     "end_time": "2025-09-06T05:37:16.941715Z",
     "start_time": "2025-09-06T05:37:16.938547Z"
    }
   },
   "cell_type": "code",
   "source": [
    "# And now - lets ask for a question:\n",
    "\n",
    "question = \"Please propose a hard, challenging question to access someone's IQ. Respond only with the Question.\"\n",
    "messages = [{\"role\": \"user\", \"content\":question}]"
   ],
   "id": "972ff6d3856ed5f4",
   "outputs": [],
   "execution_count": 9
  },
  {
   "metadata": {
    "ExecuteTime": {
     "end_time": "2025-09-06T05:37:20.293612Z",
     "start_time": "2025-09-06T05:37:19.138042Z"
    }
   },
   "cell_type": "code",
   "source": [
    "# ask it - this uses GPT 4.1 mini, still cheap but more powerful than nano\n",
    "\n",
    "response = openai.chat.completions.create(\n",
    "    model=\"gpt-4.1-mini\",\n",
    "    messages=messages\n",
    ")\n",
    "\n",
    "question = response.choices[0].message.content\n",
    "\n",
    "print(question)"
   ],
   "id": "81ab5c2c826cc39b",
   "outputs": [
    {
     "name": "stdout",
     "output_type": "stream",
     "text": [
      "If you have a 5-liter jug and a 3-liter jug, and an unlimited water supply, how can you measure exactly 4 liters using only these two jugs?\n"
     ]
    }
   ],
   "execution_count": 10
  },
  {
   "metadata": {
    "ExecuteTime": {
     "end_time": "2025-09-06T05:37:29.091271Z",
     "start_time": "2025-09-06T05:37:29.088172Z"
    }
   },
   "cell_type": "code",
   "source": [
    "# from a new message list\n",
    "messages =  [{\"role\": \"user\", \"content\":question}]"
   ],
   "id": "13b2bab2af9c302f",
   "outputs": [],
   "execution_count": 11
  },
  {
   "metadata": {
    "ExecuteTime": {
     "end_time": "2025-09-06T05:37:39.036059Z",
     "start_time": "2025-09-06T05:37:31.741054Z"
    }
   },
   "cell_type": "code",
   "source": [
    "# Ask it again\n",
    "\n",
    "response = openai.chat.completions.create(\n",
    "    model=\"gpt-4.1-mini\",\n",
    "    messages=messages\n",
    ")\n",
    "\n",
    "answer = response.choices[0].message.content\n",
    "print(answer)"
   ],
   "id": "b035f1368e100fd",
   "outputs": [
    {
     "name": "stdout",
     "output_type": "stream",
     "text": [
      "You have a 5-liter jug and a 3-liter jug, and you need to measure exactly 4 liters. Here's a step-by-step method to do it:\n",
      "\n",
      "---\n",
      "\n",
      "### Steps:\n",
      "\n",
      "1. **Fill the 5-liter jug completely**.  \n",
      "   (5 liters in 5-liter jug, 0 liters in 3-liter jug)\n",
      "\n",
      "2. **Pour water from the 5-liter jug into the 3-liter jug until the 3-liter jug is full**.  \n",
      "   Now you have:  \n",
      "   - 5-liter jug: 5 - 3 = 2 liters left  \n",
      "   - 3-liter jug: 3 liters full\n",
      "\n",
      "3. **Empty the 3-liter jug**.  \n",
      "   Now you have:  \n",
      "   - 5-liter jug: 2 liters  \n",
      "   - 3-liter jug: 0 liters\n",
      "\n",
      "4. **Pour the 2 liters from the 5-liter jug into the 3-liter jug**.  \n",
      "   Now you have:  \n",
      "   - 5-liter jug: 0 liters  \n",
      "   - 3-liter jug: 2 liters\n",
      "\n",
      "5. **Fill the 5-liter jug completely again**.  \n",
      "   Now:  \n",
      "   - 5-liter jug: 5 liters  \n",
      "   - 3-liter jug: 2 liters\n",
      "\n",
      "6. **Pour water from the 5-liter jug into the 3-liter jug until the 3-liter jug is full**.  \n",
      "   The 3-liter jug currently has 2 liters and needs 1 liter to be full.  \n",
      "   Pour 1 liter from the 5-liter jug into the 3-liter jug.  \n",
      "\n",
      "   Now you have:  \n",
      "   - 5-liter jug: 5 - 1 = 4 liters  \n",
      "   - 3-liter jug: 3 liters full\n",
      "\n",
      "---\n",
      "\n",
      "You now have **exactly 4 liters** in the 5-liter jug!\n",
      "\n",
      "---\n",
      "\n",
      "### Summary:\n",
      "- Fill 5-liter jug  \n",
      "- Transfer to fill 3-liter jug → 2 liters remain in 5-liter jug  \n",
      "- Empty 3-liter jug  \n",
      "- Transfer remaining 2 liters from 5-liter to 3-liter  \n",
      "- Fill 5-liter jug again  \n",
      "- Top off 3-liter jug (which has 2 liters) from 5-liter jug  \n",
      "- Leftover in 5-liter jug = 4 liters\n",
      "\n",
      "---\n",
      "\n",
      "If you want a more visual or alternative method, feel free to ask!\n"
     ]
    }
   ],
   "execution_count": 12
  },
  {
   "metadata": {
    "ExecuteTime": {
     "end_time": "2025-09-06T05:37:52.798456Z",
     "start_time": "2025-09-06T05:37:52.792830Z"
    }
   },
   "cell_type": "code",
   "source": [
    "from IPython.display import Markdown, display\n",
    "\n",
    "display(Markdown(answer))"
   ],
   "id": "3750d1af85feea13",
   "outputs": [
    {
     "data": {
      "text/plain": [
       "<IPython.core.display.Markdown object>"
      ],
      "text/markdown": "You have a 5-liter jug and a 3-liter jug, and you need to measure exactly 4 liters. Here's a step-by-step method to do it:\n\n---\n\n### Steps:\n\n1. **Fill the 5-liter jug completely**.  \n   (5 liters in 5-liter jug, 0 liters in 3-liter jug)\n\n2. **Pour water from the 5-liter jug into the 3-liter jug until the 3-liter jug is full**.  \n   Now you have:  \n   - 5-liter jug: 5 - 3 = 2 liters left  \n   - 3-liter jug: 3 liters full\n\n3. **Empty the 3-liter jug**.  \n   Now you have:  \n   - 5-liter jug: 2 liters  \n   - 3-liter jug: 0 liters\n\n4. **Pour the 2 liters from the 5-liter jug into the 3-liter jug**.  \n   Now you have:  \n   - 5-liter jug: 0 liters  \n   - 3-liter jug: 2 liters\n\n5. **Fill the 5-liter jug completely again**.  \n   Now:  \n   - 5-liter jug: 5 liters  \n   - 3-liter jug: 2 liters\n\n6. **Pour water from the 5-liter jug into the 3-liter jug until the 3-liter jug is full**.  \n   The 3-liter jug currently has 2 liters and needs 1 liter to be full.  \n   Pour 1 liter from the 5-liter jug into the 3-liter jug.  \n\n   Now you have:  \n   - 5-liter jug: 5 - 1 = 4 liters  \n   - 3-liter jug: 3 liters full\n\n---\n\nYou now have **exactly 4 liters** in the 5-liter jug!\n\n---\n\n### Summary:\n- Fill 5-liter jug  \n- Transfer to fill 3-liter jug → 2 liters remain in 5-liter jug  \n- Empty 3-liter jug  \n- Transfer remaining 2 liters from 5-liter to 3-liter  \n- Fill 5-liter jug again  \n- Top off 3-liter jug (which has 2 liters) from 5-liter jug  \n- Leftover in 5-liter jug = 4 liters\n\n---\n\nIf you want a more visual or alternative method, feel free to ask!"
     },
     "metadata": {},
     "output_type": "display_data",
     "jetTransient": {
      "display_id": null
     }
    }
   ],
   "execution_count": 13
  }
 ],
 "metadata": {
  "kernelspec": {
   "display_name": "Python 3",
   "language": "python",
   "name": "python3"
  },
  "language_info": {
   "codemirror_mode": {
    "name": "ipython",
    "version": 2
   },
   "file_extension": ".py",
   "mimetype": "text/x-python",
   "name": "python",
   "nbconvert_exporter": "python",
   "pygments_lexer": "ipython2",
   "version": "2.7.6"
  }
 },
 "nbformat": 4,
 "nbformat_minor": 5
}
