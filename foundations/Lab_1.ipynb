{
 "cells": [
  {
   "metadata": {},
   "cell_type": "markdown",
   "source": "# Welcome to Agentic AI",
   "id": "6aa625cdb99285e7"
  },
  {
   "metadata": {},
   "cell_type": "code",
   "outputs": [],
   "execution_count": null,
   "source": [
    "# First lets do an import. If you get an Import Error, double check that your Kernel is Correct.\n",
    "\n",
    "from dotenv import load_dotenv"
   ],
   "id": "f80a24202e96b884"
  },
  {
   "metadata": {},
   "cell_type": "code",
   "outputs": [],
   "execution_count": null,
   "source": [
    "# Next It's time to load the API keys into the Environment Variables\n",
    "#  If this returns false, see the next Cell\n",
    "\n",
    "load_dotenv(override=True)"
   ],
   "id": "f1cbce02a37a5b58"
  },
  {
   "metadata": {},
   "cell_type": "code",
   "outputs": [],
   "execution_count": null,
   "source": [
    "# CHeck the Key - if you're not using openAI, check whichever key you're using! Ollama doesn't need a key.\n",
    "\n",
    "import os\n",
    "openai_api_key = os.getenv('OPENAI_API_KEY')\n",
    "\n",
    "if openai_api_key:\n",
    "    print(f\"OpenAI API Key is {openai_api_key[:0]}\")\n",
    "else:\n",
    "    print(\"OpenAI API Key is not set\")"
   ],
   "id": "47e4fea4f0df88eb"
  },
  {
   "metadata": {},
   "cell_type": "code",
   "outputs": [],
   "execution_count": null,
   "source": [
    "# And now - the all important statements\n",
    "# if you get an import error - troubleshoot the error\n",
    "# Even for other LLM Providers like Gemini, you still use this OpenAI Import\n",
    "\n",
    "\n",
    "from openai import OpenAI"
   ],
   "id": "a1680325a03f00c1"
  },
  {
   "metadata": {},
   "cell_type": "code",
   "outputs": [],
   "execution_count": null,
   "source": [
    "# and Now we'll create an instance of openAI class\n",
    "\n",
    "openai = OpenAI()"
   ],
   "id": "30b98d943fa23a95"
  },
  {
   "metadata": {},
   "cell_type": "code",
   "outputs": [],
   "execution_count": null,
   "source": [
    "# Create a list of messages in the familiar OpenAI format\n",
    "\n",
    "messages = [{\"role\": \"user\", \"content\":\"What is 2+2?\"}]"
   ],
   "id": "10fc3b5579344be6"
  },
  {
   "metadata": {},
   "cell_type": "code",
   "outputs": [],
   "execution_count": null,
   "source": [
    "# And Now call it! Any Problem Troubleshoot\n",
    "# This uses GPT 4.1 nano, the cheap model\n",
    "\n",
    "response = openai.chat.completions.create(\n",
    "    model=\"gpt-4.1-nano\",\n",
    "    messages=messages\n",
    ")\n",
    "\n",
    "print(response.choices[0].message.content)"
   ],
   "id": "af91b80626f2230"
  },
  {
   "metadata": {},
   "cell_type": "code",
   "outputs": [],
   "execution_count": null,
   "source": [
    "# And now - lets ask for a question:\n",
    "\n",
    "question = \"Please propose a hard, challenging question to access someone's IQ. Respond only with the Question.\"\n",
    "messages = [{\"role\": \"user\", \"content\":question}]"
   ],
   "id": "972ff6d3856ed5f4"
  },
  {
   "metadata": {},
   "cell_type": "code",
   "outputs": [],
   "execution_count": null,
   "source": [
    "# ask it - this uses GPT 4.1 mini, still cheap but more powerful than nano\n",
    "\n",
    "response = openai.chat.completions.create(\n",
    "    model=\"gpt-4.1-mini\",\n",
    "    messages=messages\n",
    ")\n",
    "\n",
    "question = response.choices[0].message.content\n",
    "\n",
    "print(question)"
   ],
   "id": "81ab5c2c826cc39b"
  },
  {
   "metadata": {},
   "cell_type": "code",
   "outputs": [],
   "execution_count": null,
   "source": [
    "# from a new message list\n",
    "messages =  [{\"role\": \"user\", \"content\":question}]"
   ],
   "id": "13b2bab2af9c302f"
  },
  {
   "metadata": {},
   "cell_type": "code",
   "outputs": [],
   "execution_count": null,
   "source": [
    "# Ask it again\n",
    "\n",
    "response = openai.chat.completions.create(\n",
    "    model=\"gpt-4.1-mini\",\n",
    "    messages=messages\n",
    ")\n",
    "\n",
    "answer = response.choices[0].message.content\n",
    "print(answer)"
   ],
   "id": "b035f1368e100fd"
  },
  {
   "metadata": {},
   "cell_type": "code",
   "outputs": [],
   "execution_count": null,
   "source": [
    "from IPython.display import Markdown, display\n",
    "\n",
    "display(Markdown(answer))"
   ],
   "id": "3750d1af85feea13"
  }
 ],
 "metadata": {
  "kernelspec": {
   "display_name": "Python 3",
   "language": "python",
   "name": "python3"
  },
  "language_info": {
   "codemirror_mode": {
    "name": "ipython",
    "version": 2
   },
   "file_extension": ".py",
   "mimetype": "text/x-python",
   "name": "python",
   "nbconvert_exporter": "python",
   "pygments_lexer": "ipython2",
   "version": "2.7.6"
  }
 },
 "nbformat": 4,
 "nbformat_minor": 5
}
